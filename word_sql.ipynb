{
 "cells": [
  {
   "cell_type": "code",
   "execution_count": 11,
   "metadata": {},
   "outputs": [],
   "source": [
    "from langchain_experimental.agents import create_pandas_dataframe_agent\n",
    "import pandas as pd\n",
    "from langchain_google_genai import GoogleGenerativeAI\n",
    "from langchain_google_genai.chat_models import ChatGoogleGenerativeAI\n",
    "import os\n",
    "from google.cloud import aiplatform"
   ]
  },
  {
   "cell_type": "code",
   "execution_count": null,
   "metadata": {},
   "outputs": [],
   "source": [
    "!pip install langchain-google-genai"
   ]
  },
  {
   "cell_type": "code",
   "execution_count": 27,
   "metadata": {},
   "outputs": [],
   "source": [
    "import vertexai.preview.generative_models as generative_models\n",
    "\n",
    "safety_settings = {\n",
    "    generative_models.HarmCategory.HARM_CATEGORY_HATE_SPEECH: generative_models.HarmBlockThreshold.BLOCK_ONLY_HIGH,\n",
    "    generative_models.HarmCategory.HARM_CATEGORY_DANGEROUS_CONTENT: generative_models.HarmBlockThreshold.BLOCK_ONLY_HIGH,\n",
    "    generative_models.HarmCategory.HARM_CATEGORY_SEXUALLY_EXPLICIT: generative_models.HarmBlockThreshold.BLOCK_ONLY_HIGH,\n",
    "    generative_models.HarmCategory.HARM_CATEGORY_HARASSMENT: generative_models.HarmBlockThreshold.BLOCK_ONLY_HIGH,\n",
    "}"
   ]
  },
  {
   "cell_type": "code",
   "execution_count": 13,
   "metadata": {},
   "outputs": [],
   "source": [
    "# Initialize Vertex AI\n",
    "project = \"drgenai\"\n",
    "location = \"us-central1\"\n",
    "aiplatform.init(project=project,location=location)\n",
    "os.environ[\"GOOGLE_APPLICATION_CREDENTIALS\"] = \"drgenai-7daf412ca440.json\""
   ]
  },
  {
   "cell_type": "code",
   "execution_count": 28,
   "metadata": {},
   "outputs": [],
   "source": [
    "from langchain_google_vertexai import ChatVertexAI\n",
    "llm = ChatVertexAI(model_name=\"gemini-1.5-pro-001\",safety_settings=safety_settings)\n",
    "df = pd.read_csv(\"Most Streamed Spotify Songs 2024.csv\", encoding='latin1')"
   ]
  },
  {
   "cell_type": "code",
   "execution_count": 22,
   "metadata": {},
   "outputs": [],
   "source": [
    "from langchain_google_vertexai import ChatVertexAI"
   ]
  },
  {
   "cell_type": "code",
   "execution_count": 29,
   "metadata": {},
   "outputs": [],
   "source": [
    "agent_executor = create_pandas_dataframe_agent(llm,\n",
    "    df,\n",
    "    agent_type=\"zero-shot-react-description\",\n",
    "    verbose=True,\n",
    "    return_intermediate_steps=True,agent_executor_kwargs={\"handle_parsing_errors\": True},allow_dangerous_code=True\n",
    ")"
   ]
  },
  {
   "cell_type": "code",
   "execution_count": 31,
   "metadata": {},
   "outputs": [
    {
     "name": "stdout",
     "output_type": "stream",
     "text": [
      "\n",
      "\n",
      "\u001b[1m> Entering new AgentExecutor chain...\u001b[0m\n",
      "\u001b[32;1m\u001b[1;3mThought: I need to first find the rows in the dataframe where the artist is JAY-Z and the track name is Numb / Encore. Then I can get the album name of that song.\n",
      "Action: python_repl_ast\n",
      "Action Input: \n",
      "```python\n",
      "df[(df['Artist'] == 'JAY-Z') & (df['Track'] == 'Numb / Encore')]['Album Name']\n",
      "```\u001b[0m\u001b[36;1m\u001b[1;3m29    Papercuts\n",
      "Name: Album Name, dtype: object\u001b[0m\u001b[32;1m\u001b[1;3mThought: I now have the album name.\n",
      "Final Answer: Papercuts\u001b[0m\n",
      "\n",
      "\u001b[1m> Finished chain.\u001b[0m\n"
     ]
    },
    {
     "data": {
      "text/plain": [
       "{'input': 'Give me the album name of the song Numb / Encore by artist JAY-Z ',\n",
       " 'output': 'Papercuts',\n",
       " 'intermediate_steps': [(AgentAction(tool='python_repl_ast', tool_input=\"```python\\ndf[(df['Artist'] == 'JAY-Z') & (df['Track'] == 'Numb / Encore')]['Album Name']\\n```\", log=\"Thought: I need to first find the rows in the dataframe where the artist is JAY-Z and the track name is Numb / Encore. Then I can get the album name of that song.\\nAction: python_repl_ast\\nAction Input: \\n```python\\ndf[(df['Artist'] == 'JAY-Z') & (df['Track'] == 'Numb / Encore')]['Album Name']\\n```\"),\n",
       "   29    Papercuts\n",
       "   Name: Album Name, dtype: object)]}"
      ]
     },
     "execution_count": 31,
     "metadata": {},
     "output_type": "execute_result"
    }
   ],
   "source": [
    "agent_executor.invoke('''Give me the album name of the song Numb / Encore by artist JAY-Z ''')"
   ]
  },
  {
   "cell_type": "code",
   "execution_count": null,
   "metadata": {},
   "outputs": [],
   "source": []
  }
 ],
 "metadata": {
  "kernelspec": {
   "display_name": "Python 3",
   "language": "python",
   "name": "python3"
  },
  "language_info": {
   "codemirror_mode": {
    "name": "ipython",
    "version": 3
   },
   "file_extension": ".py",
   "mimetype": "text/x-python",
   "name": "python",
   "nbconvert_exporter": "python",
   "pygments_lexer": "ipython3",
   "version": "3.9.13"
  }
 },
 "nbformat": 4,
 "nbformat_minor": 2
}
